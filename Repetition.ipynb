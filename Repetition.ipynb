{
 "cells": [
  {
   "cell_type": "code",
   "execution_count": null,
   "metadata": {},
   "outputs": [
    {
     "name": "stdout",
     "output_type": "stream",
     "text": [
      "Data Analytics\n",
      "Data Analytics\n",
      "Data Analytics\n",
      "Data Analytics\n",
      "Data Analytics\n",
      "Data Analytics\n",
      "\n",
      "Data Engineering\n",
      "Data Engineering\n",
      "Data Engineering\n",
      "Data Engineering\n",
      "\n",
      "Data Science\n",
      "Data Science\n",
      "\n",
      "Machine Learning\n",
      "Machine Learning\n",
      "Machine Learning\n",
      "\n",
      "Business Intelligence\n",
      "Business Intelligence\n",
      "Business Intelligence\n",
      "Business Intelligence\n",
      "Business Intelligence\n",
      "\n"
     ]
    }
   ],
   "source": [
    "from openpyxl import load_workbook\n",
    "\n",
    "# Load the Excel workbook\n",
    "wb = load_workbook(r\"Data Workshop.xlsx\")\n",
    "\n",
    "# Select the active worksheet\n",
    "ws = wb.active\n",
    "\n",
    "# Iterate over rows starting from the second row (skip header), get values only\n",
    "for row in ws.iter_rows(min_row=2, values_only=True):\n",
    "    item = row[0]  # Field name or participant title\n",
    "    rep = row[1]   # Number of times to print the item\n",
    "\n",
    "    # If repetition count is None, just print the item once\n",
    "    if rep is None:\n",
    "        print(item)\n",
    "    else:\n",
    "        rep = int(rep)  # Convert repetition count to integer\n",
    "        # Print the item 'rep' times to simulate multiple ID cards\n",
    "        for i in range(rep):\n",
    "            print(item)\n",
    "        print()  # Add a blank line for readability between groups"
   ]
  }
 ],
 "metadata": {
  "kernelspec": {
   "display_name": "Python 3",
   "language": "python",
   "name": "python3"
  },
  "language_info": {
   "codemirror_mode": {
    "name": "ipython",
    "version": 3
   },
   "file_extension": ".py",
   "mimetype": "text/x-python",
   "name": "python",
   "nbconvert_exporter": "python",
   "pygments_lexer": "ipython3",
   "version": "3.13.2"
  }
 },
 "nbformat": 4,
 "nbformat_minor": 2
}
